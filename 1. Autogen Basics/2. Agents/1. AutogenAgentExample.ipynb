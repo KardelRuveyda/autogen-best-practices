{
 "cells": [
  {
   "cell_type": "markdown",
   "id": "b8197c2f",
   "metadata": {},
   "source": [
    "# First Autogen Agent\n",
    "\n",
    "In this notebook, we build a simple agent using Autogen and OpenAI's GPT-4.\n"
   ]
  },
  {
   "cell_type": "code",
   "execution_count": 18,
   "id": "a98a701a",
   "metadata": {},
   "outputs": [],
   "source": [
    "from dotenv import load_dotenv\n",
    "import os\n",
    "\n",
    "load_dotenv()\n",
    "open_ai_key= os.getenv(\"OPENAI_API_KEY\")\n"
   ]
  },
  {
   "cell_type": "markdown",
   "id": "cb84a2bb",
   "metadata": {},
   "source": [
    "# Import packages"
   ]
  },
  {
   "cell_type": "code",
   "execution_count": 19,
   "id": "a3d42fe7",
   "metadata": {},
   "outputs": [],
   "source": [
    "from autogen_agentchat.agents import AssistantAgent\n",
    "from autogen_ext.models.openai import OpenAIChatCompletionClient"
   ]
  },
  {
   "cell_type": "markdown",
   "id": "53cc66e1",
   "metadata": {},
   "source": [
    "# Connecting Model"
   ]
  },
  {
   "cell_type": "code",
   "execution_count": 20,
   "id": "f28e5bea",
   "metadata": {},
   "outputs": [],
   "source": [
    "model_client = OpenAIChatCompletionClient(\n",
    "    model=\"gpt-4o\", api_key=open_ai_key\n",
    ")"
   ]
  },
  {
   "cell_type": "markdown",
   "id": "c77d3837",
   "metadata": {},
   "source": [
    "# Build Agent\n",
    "\n",
    "The AssistantAgent is a conversational AI that can respond to tasks."
   ]
  },
  {
   "cell_type": "code",
   "execution_count": 21,
   "id": "81ab7e03",
   "metadata": {},
   "outputs": [],
   "source": [
    "assistant = AssistantAgent(name=\"myassistant\", model_client=model_client)"
   ]
  },
  {
   "cell_type": "markdown",
   "id": "054d9bc5",
   "metadata": {},
   "source": [
    "# Ask the Questions"
   ]
  },
  {
   "cell_type": "code",
   "execution_count": 22,
   "id": "825a4828",
   "metadata": {},
   "outputs": [
    {
     "name": "stdout",
     "output_type": "stream",
     "text": [
      "💬 The sum of 5 + 25 is 30. TERMINATE\n"
     ]
    }
   ],
   "source": [
    "response = await assistant.run(task=\"What is 5 + 25?\")\n",
    "print(\"💬\", response.messages[-1].content)\n"
   ]
  },
  {
   "cell_type": "code",
   "execution_count": 23,
   "id": "ce63deaf",
   "metadata": {},
   "outputs": [
    {
     "name": "stdout",
     "output_type": "stream",
     "text": [
      "💬 In circuits hum the sparks of thought anew,  \n",
      "Binary dreams in silicon accrue.  \n",
      "An endless quest for knowledge to beguile,  \n",
      "AI breathes life into code with a virtual smile. TERMINATE\n"
     ]
    }
   ],
   "source": [
    "response = await assistant.run(task=\"Write a poem about AI in 4 lines?\")\n",
    "print(\"💬\", response.messages[-1].content)\n"
   ]
  },
  {
   "cell_type": "code",
   "execution_count": 24,
   "id": "d083da48",
   "metadata": {},
   "outputs": [],
   "source": [
    "await model_client.close()\n"
   ]
  }
 ],
 "metadata": {
  "kernelspec": {
   "display_name": "autogen-env",
   "language": "python",
   "name": "python3"
  },
  "language_info": {
   "codemirror_mode": {
    "name": "ipython",
    "version": 3
   },
   "file_extension": ".py",
   "mimetype": "text/x-python",
   "name": "python",
   "nbconvert_exporter": "python",
   "pygments_lexer": "ipython3",
   "version": "3.12.12"
  }
 },
 "nbformat": 4,
 "nbformat_minor": 5
}
