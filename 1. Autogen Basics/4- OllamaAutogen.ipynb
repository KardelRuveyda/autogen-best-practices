{
 "cells": [
  {
   "cell_type": "code",
   "execution_count": null,
   "id": "27b13da1",
   "metadata": {},
   "outputs": [],
   "source": [
    "from dotenv import load_dotenv\n",
    "import os\n",
    "\n",
    "load_dotenv()\n"
   ]
  },
  {
   "cell_type": "code",
   "execution_count": null,
   "id": "35a20668",
   "metadata": {},
   "outputs": [],
   "source": [
    "from autogen_core.models import UserMessage\n",
    "from autogen_ext.models.ollama import OllamaChatCompletionClient\n",
    "\n",
    "# Local Ollama servisine bağlan\n",
    "ollama_model_client = OllamaChatCompletionClient(model=\"llama3.2\")\n",
    "\n",
    "response = await ollama_model_client.create([\n",
    "    UserMessage(content=\"What is the capital of France?\", source=\"user\")\n",
    "])\n",
    "print(response.messages[-1].content)\n",
    "\n",
    "await ollama_model_client.close()"
   ]
  },
  {
   "cell_type": "code",
   "execution_count": null,
   "id": "09dfd8d2",
   "metadata": {},
   "outputs": [],
   "source": []
  }
 ],
 "metadata": {
  "language_info": {
   "name": "python"
  }
 },
 "nbformat": 4,
 "nbformat_minor": 5
}
