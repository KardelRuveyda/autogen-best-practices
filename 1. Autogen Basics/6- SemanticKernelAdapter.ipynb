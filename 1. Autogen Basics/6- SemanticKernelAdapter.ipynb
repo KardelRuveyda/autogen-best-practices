{
 "cells": [
  {
   "cell_type": "code",
   "execution_count": 2,
   "id": "19504a01",
   "metadata": {},
   "outputs": [],
   "source": [
    "from dotenv import load_dotenv\n",
    "import os\n",
    "\n",
    "load_dotenv()\n",
    "api_key = os.getenv(\"OPENAI_API_KEY\")"
   ]
  },
  {
   "cell_type": "code",
   "execution_count": null,
   "id": "d7e4a7c6",
   "metadata": {},
   "outputs": [
    {
     "name": "stderr",
     "output_type": "stream",
     "text": [
      "C:\\Users\\ruveyda.cetin\\AppData\\Local\\Temp\\ipykernel_55072\\966434921.py:30: DeprecationWarning: This class will be removed in a future version.\n",
      "  kernel=Kernel(memory=NullMemory()),\n"
     ]
    },
    {
     "name": "stdout",
     "output_type": "stream",
     "text": [
      "💬 Endless waves whisper,  \n",
      "Secrets in the salt-kissed breeze,  \n",
      "Blue embraces sky.\n"
     ]
    }
   ],
   "source": [
    "import os\n",
    "import nest_asyncio\n",
    "nest_asyncio.apply()\n",
    "\n",
    "from autogen_core.models import UserMessage\n",
    "from autogen_ext.models.semantic_kernel import SKChatCompletionAdapter\n",
    "from autogen_agentchat.agents import AssistantAgent\n",
    "from semantic_kernel import Kernel\n",
    "from semantic_kernel.connectors.ai.open_ai import OpenAIChatCompletion, OpenAIChatPromptExecutionSettings\n",
    "from semantic_kernel.memory.null_memory import NullMemory\n",
    "\n",
    "# 2️⃣ Semantic Kernel istemcisi\n",
    "sk_client = OpenAIChatCompletion(\n",
    "    ai_model_id=\"gpt-4o\",\n",
    "    api_key=api_key,\n",
    "    service_id=\"openai-service\"\n",
    ")\n",
    "\n",
    "# 3️⃣ Model ayarları (temperature, max_tokens vs.)\n",
    "settings = OpenAIChatPromptExecutionSettings(temperature=0.3)\n",
    "\n",
    "# 4️⃣ SK → AutoGen adaptörü\n",
    "openai_model_client = SKChatCompletionAdapter(\n",
    "    sk_client,\n",
    "    kernel=Kernel(memory=NullMemory()),\n",
    "    prompt_settings=settings\n",
    ")\n",
    "\n",
    "# 5️⃣ AutoGen Agent oluştur\n",
    "agent = AssistantAgent(\n",
    "    name=\"helper\",\n",
    "    model_client=openai_model_client,\n",
    "    system_message=\"You are a helpful assistant specialized in short, creative responses.\"\n",
    ")\n",
    "\n",
    "# 6️⃣ Görevi çalıştır\n",
    "response = await agent.run(task=\"Write a haiku about the ocean.\")\n",
    "\n",
    "# 7️⃣ Yanıtı yazdır\n",
    "print(\"💬\", response.messages[-1].content)\n",
    "\n",
    "# 8️⃣ Bağlantıyı kapat\n",
    "await openai_model_client.close()\n"
   ]
  }
 ],
 "metadata": {
  "kernelspec": {
   "display_name": "autogen-env",
   "language": "python",
   "name": "python3"
  },
  "language_info": {
   "codemirror_mode": {
    "name": "ipython",
    "version": 3
   },
   "file_extension": ".py",
   "mimetype": "text/x-python",
   "name": "python",
   "nbconvert_exporter": "python",
   "pygments_lexer": "ipython3",
   "version": "3.12.12"
  }
 },
 "nbformat": 4,
 "nbformat_minor": 5
}
