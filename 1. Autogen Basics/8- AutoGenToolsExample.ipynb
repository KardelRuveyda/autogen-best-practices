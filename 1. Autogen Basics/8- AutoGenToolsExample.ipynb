{
 "cells": [
  {
   "cell_type": "code",
   "execution_count": 1,
   "id": "c3ebb120",
   "metadata": {},
   "outputs": [],
   "source": [
    "from dotenv import load_dotenv\n",
    "import os\n",
    "\n",
    "load_dotenv()\n",
    "open_ai_key= os.getenv(\"OPENAI_API_KEY\")\n"
   ]
  },
  {
   "cell_type": "code",
   "execution_count": 3,
   "id": "f0dd5237",
   "metadata": {},
   "outputs": [],
   "source": [
    "from autogen_agentchat.agents import AssistantAgent\n",
    "from autogen_ext.models.openai import OpenAIChatCompletionClient\n",
    "\n",
    "model_client = OpenAIChatCompletionClient(model='gpt-4',api_key=open_ai_key)"
   ]
  },
  {
   "cell_type": "markdown",
   "id": "9d3d85ca",
   "metadata": {},
   "source": [
    "# Tools"
   ]
  },
  {
   "cell_type": "code",
   "execution_count": 6,
   "id": "b4538dca",
   "metadata": {},
   "outputs": [],
   "source": [
    "def get_weather(location: str) -> str:\n",
    "    # Simulated weather data\n",
    "    weather_data = {\n",
    "        \"New York\": \"sunny, 25°C\",\n",
    "        \"San Francisco\": \"foggy, 15°C\",\n",
    "        \"Los Angeles\": \"cloudy, 22°C\"\n",
    "    }\n",
    "    return weather_data.get(location, \"Data not available for this location.\")"
   ]
  },
  {
   "cell_type": "code",
   "execution_count": 8,
   "id": "2143fd43",
   "metadata": {},
   "outputs": [],
   "source": [
    "assistant = AssistantAgent(name=\"Assistant\", model_client=model_client\n",
    "                            ,tools={get_weather}\n",
    "                            ,system_message=\"You are a helpful assistant that can provide weather information.\"\n",
    "                            ,description=\"An assistant that provides weather updates for various locations.\"\n",
    "                            )"
   ]
  },
  {
   "cell_type": "code",
   "execution_count": 9,
   "id": "b89b2c37",
   "metadata": {},
   "outputs": [],
   "source": [
    "async def test_weather_tool():\n",
    "    response = await assistant.run(task=\"What's the weather like in New York?\")\n",
    "    print(\"💬\", response.messages[-1].content)"
   ]
  },
  {
   "cell_type": "code",
   "execution_count": null,
   "id": "e13aed36",
   "metadata": {},
   "outputs": [
    {
     "data": {
      "text/plain": [
       "<coroutine object test_weather_tool at 0x0000018DB7A228E0>"
      ]
     },
     "execution_count": 10,
     "metadata": {},
     "output_type": "execute_result"
    }
   ],
   "source": [
    "await test_weather_tool()"
   ]
  }
 ],
 "metadata": {
  "kernelspec": {
   "display_name": "autogen-env",
   "language": "python",
   "name": "python3"
  },
  "language_info": {
   "codemirror_mode": {
    "name": "ipython",
    "version": 3
   },
   "file_extension": ".py",
   "mimetype": "text/x-python",
   "name": "python",
   "nbconvert_exporter": "python",
   "pygments_lexer": "ipython3",
   "version": "3.12.12"
  }
 },
 "nbformat": 4,
 "nbformat_minor": 5
}
