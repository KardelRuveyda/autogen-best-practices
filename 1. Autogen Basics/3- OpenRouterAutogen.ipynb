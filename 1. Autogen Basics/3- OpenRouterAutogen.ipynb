{
 "cells": [
  {
   "cell_type": "code",
   "execution_count": 3,
   "id": "96625bc4",
   "metadata": {},
   "outputs": [],
   "source": [
    "from dotenv import load_dotenv\n",
    "import os\n",
    "\n",
    "load_dotenv()\n",
    "openrouter_api_key = os.getenv(\"OPENROUTER_API_KEY\")    "
   ]
  },
  {
   "cell_type": "code",
   "execution_count": null,
   "id": "6c1612e7",
   "metadata": {},
   "outputs": [
    {
     "name": "stdout",
     "output_type": "stream",
     "text": [
      "💬 The capital of France is Paris.\n"
     ]
    }
   ],
   "source": [
    "import nest_asyncio\n",
    "nest_asyncio.apply()\n",
    "\n",
    "from autogen_ext.models.openai import OpenAIChatCompletionClient\n",
    "from autogen_core.models import ModelInfo\n",
    "from autogen_agentchat.agents import AssistantAgent\n",
    "import os\n",
    "from dotenv import load_dotenv\n",
    "\n",
    "load_dotenv()\n",
    "openrouter_api_key = os.getenv(\"OPENROUTER_API_KEY\")\n",
    "\n",
    "model_client = OpenAIChatCompletionClient(\n",
    "    model=\"mistralai/mistral-small-3.2-24b-instruct\",\n",
    "    api_key=openrouter_api_key,\n",
    "    base_url=\"https://openrouter.ai/api/v1\",  # önemli: endpoint \"api/v1\" olmalı\n",
    "    model_info=ModelInfo(\n",
    "        family=\"mistral\",\n",
    "        function_calling=True,\n",
    "        json_output=False,\n",
    "        vision=False,\n",
    "        structured_output=False\n",
    "    )\n",
    ")\n",
    "\n",
    "agent = AssistantAgent(\n",
    "    name=\"helper\",\n",
    "    model_client=model_client,\n",
    "    system_message=\"You are a helpful and knowledgeable assistant.\"\n",
    ")\n",
    "\n",
    "response = await agent.run(task=\"What is the capital of France?\")\n",
    "print(\"💬\", response.messages[-1].content)\n",
    "\n",
    "await model_client.close()\n"
   ]
  }
 ],
 "metadata": {
  "kernelspec": {
   "display_name": "autogen-env",
   "language": "python",
   "name": "python3"
  },
  "language_info": {
   "codemirror_mode": {
    "name": "ipython",
    "version": 3
   },
   "file_extension": ".py",
   "mimetype": "text/x-python",
   "name": "python",
   "nbconvert_exporter": "python",
   "pygments_lexer": "ipython3",
   "version": "3.12.12"
  }
 },
 "nbformat": 4,
 "nbformat_minor": 5
}
