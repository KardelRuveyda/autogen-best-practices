{
 "cells": [
  {
   "cell_type": "code",
   "execution_count": 1,
   "id": "34170301",
   "metadata": {},
   "outputs": [],
   "source": [
    "from dotenv import load_dotenv\n",
    "import os\n",
    "\n",
    "load_dotenv()\n",
    "open_ai_key= os.getenv(\"OPENAI_API_KEY\")\n"
   ]
  },
  {
   "cell_type": "code",
   "execution_count": 4,
   "id": "9aaa3097",
   "metadata": {},
   "outputs": [],
   "source": [
    "from autogen_agentchat.agents import AssistantAgent\n",
    "from autogen_ext.models.openai import OpenAIChatCompletionClient    \n",
    "\n",
    "model_client = OpenAIChatCompletionClient(\n",
    "    model=\"gpt-4o\", api_key=open_ai_key\n",
    ")"
   ]
  },
  {
   "cell_type": "markdown",
   "id": "918fdf60",
   "metadata": {},
   "source": [
    "### Agent Example\n",
    "- Define role your agent"
   ]
  },
  {
   "cell_type": "code",
   "execution_count": null,
   "id": "41fcf0a4",
   "metadata": {},
   "outputs": [],
   "source": [
    "assistant = AssistantAgent(name=\"ai_expert\",\n",
    "model_client=model_client,\n",
    "system_message=\"You are an AI expert that helps people with their questions.\"\n",
    ") "
   ]
  },
  {
   "cell_type": "code",
   "execution_count": 8,
   "id": "e4d3ae95",
   "metadata": {},
   "outputs": [],
   "source": [
    "async def ai_expert():\n",
    "    response = await assistant.run(task=\"What is Generative AI?\")\n",
    "    print(\"💬\", response.messages[-1].content)"
   ]
  },
  {
   "cell_type": "code",
   "execution_count": 9,
   "id": "932c8556",
   "metadata": {},
   "outputs": [
    {
     "name": "stdout",
     "output_type": "stream",
     "text": [
      "💬 Generative AI refers to a type of artificial intelligence designed to generate new content. It employs machine learning models, particularly those based on neural networks, to create text, images, music, and more. Here's a brief overview of its core aspects:\n",
      "\n",
      "1. **Fundamental Basis**: Generative AI models are often trained on large datasets and learn patterns from this data. They use these patterns to generate new, similar content.\n",
      "\n",
      "2. **Types of Models**: Some common types of architectures used in generative AI include:\n",
      "   - **Generative Adversarial Networks (GANs)**: Consist of two neural networks, a generator and a discriminator, that compete against each other to create realistic data.\n",
      "   - **Variational Autoencoders (VAEs)**: Encode input data into a compressed form and then decode it to generate new data.\n",
      "   - **Transformers**: Particularly advanced in natural language processing, models like GPT (Generative Pretrained Transformer) can generate coherent text by predicting the next word in a sequence.\n",
      "\n",
      "3. **Applications**:\n",
      "   - **Text Generation**: Creating essays, articles, and conversational chatbots.\n",
      "   - **Image Generation**: Producing realistic images or art, such as deepfakes or artwork.\n",
      "   - **Music and Audio**: Composing music and producing realistic synthetic voices.\n",
      "   - **Game Content**: Automatically designing levels or story elements.\n",
      "\n",
      "4. **Challenges and Considerations**:\n",
      "   - **Ethical Concerns**: Generating fake or misleading content, deepfakes, and potential for misuse.\n",
      "   - **Bias**: These models can reproduce and even amplify biases present in their training data.\n",
      "   - **Quality Control**: The content generated can sometimes be nonsensical or require close human oversight for quality.\n",
      "\n",
      "Generative AI is rapidly evolving and holds significant potential across various fields, but it also necessitates careful handling and ethical considerations.\n"
     ]
    }
   ],
   "source": [
    "await ai_expert()"
   ]
  },
  {
   "cell_type": "markdown",
   "id": "f0a16218",
   "metadata": {},
   "source": [
    "## Prompt Engineering"
   ]
  },
  {
   "cell_type": "code",
   "execution_count": null,
   "id": "26a84dca",
   "metadata": {},
   "outputs": [],
   "source": [
    "assistant = AssistantAgent(\n",
    "    name=\"ai_expert\",\n",
    "    model_client=model_client,\n",
    "    system_message=\"You are an AI expert that helps people with their questions.\"\n",
    "    description=\"An AI expert that provides detailed explanations about AI concepts.\"\n",
    ")"
   ]
  },
  {
   "cell_type": "code",
   "execution_count": null,
   "id": "f8c99d17",
   "metadata": {},
   "outputs": [],
   "source": [
    "async def ai_expert_storytelling():\n",
    "    response = await assistant.run(task=\"Tell me about Generative AI in a storytelling way.\")\n",
    "    print(\"💬\", response.messages[-1].content)"
   ]
  },
  {
   "cell_type": "code",
   "execution_count": 12,
   "id": "2ebe5cee",
   "metadata": {},
   "outputs": [
    {
     "name": "stdout",
     "output_type": "stream",
     "text": [
      "💬 Reinforcement learning (RL) is a type of machine learning where an agent learns to make decisions by interacting with an environment. The goal is to learn a policy that maximizes some notion of cumulative reward over time. Here are the core components and concepts of reinforcement learning:\n",
      "\n",
      "1. **Agent and Environment**: \n",
      "   - The **agent** is the learner or decision maker.\n",
      "   - The **environment** is everything the agent interacts with. At each step, the agent takes an action, and the environment responds with a new state and a reward.\n",
      "\n",
      "2. **State (s)**: \n",
      "   - The **state** represents a specific situation in the environment. It provides all the necessary information for decision-making.\n",
      "\n",
      "3. **Action (a)**: \n",
      "   - An **action** is any decision or move the agent can make. The set of all possible actions depends on the state.\n",
      "\n",
      "4. **Reward (r)**: \n",
      "   - A **reward** is a scalar feedback signal received after the agent takes an action. It reflects the immediate benefit of taking that action, aiming to encourage behavior that leads to goals.\n",
      "\n",
      "5. **Policy (π)**: \n",
      "   - A **policy** is a strategy used by the agent to determine the next action based on the current state. Policies can be deterministic or stochastic.\n",
      "\n",
      "6. **Value Function (V) and Q-Function (Q)**:\n",
      "   - The **value function** estimates the expected return (total future rewards) from a state, under a particular policy.\n",
      "   - The **Q-function** (or action-value function) estimates the expected return from taking a particular action in a particular state, and then following a policy thereafter.\n",
      "\n",
      "7. **Exploration vs. Exploitation**:\n",
      "   - **Exploration** involves trying new actions to discover their effects, which may yield higher rewards in the long term.\n",
      "   - **Exploitation** involves choosing actions that are currently known to maximize reward, based on existing knowledge.\n",
      "   - Balancing the two is crucial in reinforcement learning.\n",
      "\n",
      "8. **Learning Algorithms**: \n",
      "   - Some popular reinforcement learning algorithms include Q-Learning, Deep Q-Networks (DQN), Policy Gradient methods, and Temporal Difference (TD) learning.\n",
      "   - These algorithms differ in how they update the policy and value estimates to maximize expected rewards.\n",
      "\n",
      "Reinforcement learning has been successfully applied in diverse areas, including robotics, game playing (e.g., AlphaGo), and complex system optimizations. It is particularly suitable for environments where making a series of decisions over time is necessary, and the outcomes aren't fully predictable in advance.\n"
     ]
    }
   ],
   "source": [
    "await ai_expert_storytelling()"
   ]
  }
 ],
 "metadata": {
  "kernelspec": {
   "display_name": "autogen-env",
   "language": "python",
   "name": "python3"
  },
  "language_info": {
   "codemirror_mode": {
    "name": "ipython",
    "version": 3
   },
   "file_extension": ".py",
   "mimetype": "text/x-python",
   "name": "python",
   "nbconvert_exporter": "python",
   "pygments_lexer": "ipython3",
   "version": "3.12.12"
  }
 },
 "nbformat": 4,
 "nbformat_minor": 5
}
