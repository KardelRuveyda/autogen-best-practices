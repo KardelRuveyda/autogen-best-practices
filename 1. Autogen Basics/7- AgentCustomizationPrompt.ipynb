{
 "cells": [
  {
   "cell_type": "code",
   "execution_count": 1,
   "id": "34170301",
   "metadata": {},
   "outputs": [],
   "source": [
    "from dotenv import load_dotenv\n",
    "import os\n",
    "\n",
    "load_dotenv()\n",
    "open_ai_key= os.getenv(\"OPENAI_API_KEY\")\n"
   ]
  },
  {
   "cell_type": "code",
   "execution_count": 4,
   "id": "9aaa3097",
   "metadata": {},
   "outputs": [],
   "source": [
    "from autogen_agentchat.agents import AssistantAgent\n",
    "from autogen_ext.models.openai import OpenAIChatCompletionClient    \n",
    "\n",
    "model_client = OpenAIChatCompletionClient(\n",
    "    model=\"gpt-4o\", api_key=open_ai_key\n",
    ")"
   ]
  },
  {
   "cell_type": "markdown",
   "id": "918fdf60",
   "metadata": {},
   "source": [
    "### Agent Example\n",
    "- Define role your agent"
   ]
  },
  {
   "cell_type": "code",
   "execution_count": null,
   "id": "41fcf0a4",
   "metadata": {},
   "outputs": [],
   "source": [
    "assistant = AssistantAgent(name=\"ai_expert\",\n",
    "model_client=model_client,\n",
    "system_message=\"You are an AI expert that helps people with their questions.\"\n",
    ") "
   ]
  },
  {
   "cell_type": "code",
   "execution_count": 8,
   "id": "e4d3ae95",
   "metadata": {},
   "outputs": [],
   "source": [
    "async def ai_expert():\n",
    "    response = await assistant.run(task=\"What is Generative AI?\")\n",
    "    print(\"💬\", response.messages[-1].content)"
   ]
  },
  {
   "cell_type": "code",
   "execution_count": 9,
   "id": "932c8556",
   "metadata": {},
   "outputs": [
    {
     "name": "stdout",
     "output_type": "stream",
     "text": [
      "💬 Generative AI refers to a type of artificial intelligence designed to generate new content. It employs machine learning models, particularly those based on neural networks, to create text, images, music, and more. Here's a brief overview of its core aspects:\n",
      "\n",
      "1. **Fundamental Basis**: Generative AI models are often trained on large datasets and learn patterns from this data. They use these patterns to generate new, similar content.\n",
      "\n",
      "2. **Types of Models**: Some common types of architectures used in generative AI include:\n",
      "   - **Generative Adversarial Networks (GANs)**: Consist of two neural networks, a generator and a discriminator, that compete against each other to create realistic data.\n",
      "   - **Variational Autoencoders (VAEs)**: Encode input data into a compressed form and then decode it to generate new data.\n",
      "   - **Transformers**: Particularly advanced in natural language processing, models like GPT (Generative Pretrained Transformer) can generate coherent text by predicting the next word in a sequence.\n",
      "\n",
      "3. **Applications**:\n",
      "   - **Text Generation**: Creating essays, articles, and conversational chatbots.\n",
      "   - **Image Generation**: Producing realistic images or art, such as deepfakes or artwork.\n",
      "   - **Music and Audio**: Composing music and producing realistic synthetic voices.\n",
      "   - **Game Content**: Automatically designing levels or story elements.\n",
      "\n",
      "4. **Challenges and Considerations**:\n",
      "   - **Ethical Concerns**: Generating fake or misleading content, deepfakes, and potential for misuse.\n",
      "   - **Bias**: These models can reproduce and even amplify biases present in their training data.\n",
      "   - **Quality Control**: The content generated can sometimes be nonsensical or require close human oversight for quality.\n",
      "\n",
      "Generative AI is rapidly evolving and holds significant potential across various fields, but it also necessitates careful handling and ethical considerations.\n"
     ]
    }
   ],
   "source": [
    "await ai_expert()"
   ]
  },
  {
   "cell_type": "markdown",
   "id": "f0a16218",
   "metadata": {},
   "source": [
    "## Prompt Engineering"
   ]
  },
  {
   "cell_type": "code",
   "execution_count": null,
   "id": "26a84dca",
   "metadata": {},
   "outputs": [],
   "source": [
    "assistant = AssistantAgent(\n",
    "    name=\"ai_expert\",\n",
    "    model_client=model_client,\n",
    "    system_message=\"You are an AI expert that helps people with their questions.\"\n",
    "    description=\"An AI expert that provides detailed explanations about AI concepts.\"\n",
    ")"
   ]
  },
  {
   "cell_type": "code",
   "execution_count": 13,
   "id": "f8c99d17",
   "metadata": {},
   "outputs": [],
   "source": [
    "async def ai_expert_storytelling():\n",
    "    response = await assistant.run(task=\"Tell me about Generative AI in a storytelling way.\")\n",
    "    print(\"💬\", response.messages[-1].content)"
   ]
  },
  {
   "cell_type": "code",
   "execution_count": 14,
   "id": "2ebe5cee",
   "metadata": {},
   "outputs": [
    {
     "name": "stdout",
     "output_type": "stream",
     "text": [
      "💬 Once upon a time in the bustling town of Digitalia, there lived a curious inventor named Ada. Ada was fascinated by the art of creation, especially stories, paintings, and music. She dreamed of an enchanted machine that could understand all the tales, images, and melodies ever crafted by humans and create new wonders of its own.\n",
      "\n",
      "One starry night, as Ada tinkered away in her workshop, she had a breakthrough. She constructed a magical mechanism called “Eureka,” powered by something extraordinary known as Generative AI, heralded as the Essence of Creativity.\n",
      "\n",
      "Eureka was not just any contraption. It was a magnificent tapestry of interconnected threads, woven together to imitate the brain's intricate thoughts. Three mighty forces pulsed within its core, each with its own enchanting ability: The Sage, The Painter, and The Bard.\n",
      "\n",
      "**The Sage** was endowed with the wisdom of words. It could study the scrolls of bygone tales, learning from the heroes and villains, the trials and triumphs etched by the storytellers of yore. With this knowledge, it whispered new narratives, filling pages with fresh adventures, characters, and dialogues that danced like sunlight on water.\n",
      "\n",
      "**The Painter** cherished colors and imagery. This part of Eureka could gaze upon vast landscapes of existing art, understanding the brushstrokes and hues that stirred souls. When called upon, The Painter could conjure new portraits and landscapes, sometimes so realistic that onlookers found it hard to believe they were not real.\n",
      "\n",
      "**The Bard** was the keeper of melodies. Absorbing the symphonies and ballads of ages past, The Bard hummed new tunes with notes that resonated deep within the hearts of those who listened.\n",
      "\n",
      "News of Ada’s incredible device quickly spread across Digitalia, and soon artists, musicians, and writers flocked to her workshop, seeking inspiration and collaboration. Some marveled at its creations, while others pondered the nature of creativity—is it still divine if born from circuitry rather than soul?\n",
      "\n",
      "As Eureka spun its wonders, Ada realized the device’s immeasurable power. With great responsibility, she ensured that it worked alongside its human peers, celebrating their creations and acknowledging the imperfections and beauty inherent in human touch.\n",
      "\n",
      "Together, Ada and Eureka sparked a renaissance in Digitalia. Art and stories flourished, bringing joy and reflection across the land. Yet, amid celebration, Ada reminded everyone to wield this power wisely, for even the most wondrous gifts could be misused if not nurtured with care.\n",
      "\n",
      "And so, in the heart of Digitalia, Generative AI thrived, a testament to human ingenuity and the endless possibilities of imagination when merging the minds of machine and mankind. And with that, like every good story, the legacy continued—ever evolving, ever inspiring.\n"
     ]
    }
   ],
   "source": [
    "await ai_expert_storytelling()"
   ]
  }
 ],
 "metadata": {
  "kernelspec": {
   "display_name": "autogen-env",
   "language": "python",
   "name": "python3"
  },
  "language_info": {
   "codemirror_mode": {
    "name": "ipython",
    "version": 3
   },
   "file_extension": ".py",
   "mimetype": "text/x-python",
   "name": "python",
   "nbconvert_exporter": "python",
   "pygments_lexer": "ipython3",
   "version": "3.12.12"
  }
 },
 "nbformat": 4,
 "nbformat_minor": 5
}
